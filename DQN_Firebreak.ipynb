{
  "nbformat": 4,
  "nbformat_minor": 0,
  "metadata": {
    "colab": {
      "provenance": [],
      "authorship_tag": "ABX9TyMF/4faYqGdRAcE0WNZocFi",
      "include_colab_link": true
    },
    "kernelspec": {
      "name": "python3",
      "display_name": "Python 3"
    },
    "language_info": {
      "name": "python"
    }
  },
  "cells": [
    {
      "cell_type": "markdown",
      "metadata": {
        "id": "view-in-github",
        "colab_type": "text"
      },
      "source": [
        "<a href=\"https://colab.research.google.com/github/alexncoleman/Wildfire-reinforcement-learning/blob/main/DQN_Firebreak.ipynb\" target=\"_parent\"><img src=\"https://colab.research.google.com/assets/colab-badge.svg\" alt=\"Open In Colab\"/></a>"
      ]
    },
    {
      "cell_type": "markdown",
      "source": [
        "##General DQN architecture\n",
        "For each cell in the target area (between min and max distances) look at neighbour cells as input to DQN network"
      ],
      "metadata": {
        "id": "r726vYF7odRR"
      }
    },
    {
      "cell_type": "code",
      "execution_count": 4,
      "metadata": {
        "id": "BhXIFFHmcQX0"
      },
      "outputs": [],
      "source": [
        "#Model, input is the 128x128 image of the forest fire.\n",
        "import numpy as np\n",
        "import tensorflow as tf\n",
        "from tensorflow import keras\n",
        "from tensorflow.keras.models import Sequential\n",
        "from tensorflow.keras.layers import Dense, Activation\n",
        "from tensorflow.keras.optimizers import Adam\n",
        "from tensorflow.keras.metrics import mean_squared_error\n",
        "\n",
        "\n",
        "class DQN():\n",
        "  def __init__(self, forest):\n",
        "    self._burning_cells\n",
        "    for row in forest:\n",
        "      for col in row:\n",
        "        if forest[row][col] == 3:\n",
        "          self._burning_cells.append((row, col))"
      ]
    }
  ]
}